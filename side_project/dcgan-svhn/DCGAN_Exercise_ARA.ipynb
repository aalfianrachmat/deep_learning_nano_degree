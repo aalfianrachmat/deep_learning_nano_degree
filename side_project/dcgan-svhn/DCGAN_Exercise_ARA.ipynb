{
  "nbformat": 4,
  "nbformat_minor": 0,
  "metadata": {
    "kernelspec": {
      "name": "python3",
      "display_name": "Python 3"
    },
    "language_info": {
      "codemirror_mode": {
        "name": "ipython",
        "version": 3
      },
      "file_extension": ".py",
      "mimetype": "text/x-python",
      "name": "python",
      "nbconvert_exporter": "python",
      "pygments_lexer": "ipython3",
      "version": "3.6.7"
    },
    "colab": {
      "name": "DCGAN_Exercise_ARA.ipynb",
      "version": "0.3.2",
      "provenance": [],
      "collapsed_sections": [],
      "toc_visible": true
    },
    "accelerator": "GPU"
  },
  "cells": [
    {
      "cell_type": "markdown",
      "metadata": {
        "id": "28QwBfYaNken",
        "colab_type": "text"
      },
      "source": [
        "# Deep Convolutional GANs\n",
        "\n",
        "In this notebook, you'll build a GAN using convolutional layers in the generator and discriminator. This is called a Deep Convolutional GAN, or DCGAN for short. The DCGAN architecture was first explored in 2016 and has seen impressive results in generating new images; you can read the [original paper, here](https://arxiv.org/pdf/1511.06434.pdf).\n",
        "\n",
        "You'll be training DCGAN on the [Street View House Numbers](http://ufldl.stanford.edu/housenumbers/) (SVHN) dataset. These are color images of house numbers collected from Google street view. SVHN images are in color and much more variable than MNIST. \n",
        "\n",
        "<img src='assets/svhn_dcgan.png' width=80% />\n",
        "\n",
        "So, our goal is to create a DCGAN that can generate new, realistic-looking images of house numbers. We'll go through the following steps to do this:\n",
        "* Load in and pre-process the house numbers dataset\n",
        "* Define discriminator and generator networks\n",
        "* Train these adversarial networks\n",
        "* Visualize the loss over time and some sample, generated images\n",
        "\n",
        "#### Deeper Convolutional Networks\n",
        "\n",
        "Since this dataset is more complex than our MNIST data, we'll need a deeper network to accurately identify patterns in these images and be able to generate new ones. Specifically, we'll use a series of convolutional or transpose convolutional layers in the discriminator and generator. It's also necessary to use batch normalization to get these convolutional networks to train. \n",
        "\n",
        "Besides these changes in network structure, training the discriminator and generator networks should be the same as before. That is, the discriminator will alternate training on real and fake (generated) images, and the generator will aim to trick the discriminator into thinking that its generated images are real!"
      ]
    },
    {
      "cell_type": "code",
      "metadata": {
        "id": "IhxohZaONkeo",
        "colab_type": "code",
        "colab": {}
      },
      "source": [
        "# import libraries\n",
        "import matplotlib.pyplot as plt\n",
        "import numpy as np\n",
        "import pickle as pkl\n",
        "\n",
        "%matplotlib inline"
      ],
      "execution_count": 0,
      "outputs": []
    },
    {
      "cell_type": "markdown",
      "metadata": {
        "id": "gZJvkCvONkeq",
        "colab_type": "text"
      },
      "source": [
        "## Getting the data\n",
        "\n",
        "Here you can download the SVHN dataset. It's a dataset built-in to the PyTorch datasets library. We can load in training data, transform it into Tensor datatypes, then create dataloaders to batch our data into a desired size."
      ]
    },
    {
      "cell_type": "code",
      "metadata": {
        "id": "3Vrp_-v2Nker",
        "colab_type": "code",
        "outputId": "343e6d13-e861-4b63-ce02-d8dbdf3522e7",
        "colab": {
          "base_uri": "https://localhost:8080/",
          "height": 34
        }
      },
      "source": [
        "import torch\n",
        "from torchvision import datasets\n",
        "from torchvision import transforms\n",
        "\n",
        "# Tensor transform\n",
        "transform = transforms.ToTensor()\n",
        "\n",
        "# SVHN training datasets\n",
        "svhn_train = datasets.SVHN(root='data/', split='train', download=True, transform=transform)\n",
        "\n",
        "batch_size = 128\n",
        "num_workers = 0\n",
        "\n",
        "# build DataLoaders for SVHN dataset\n",
        "train_loader = torch.utils.data.DataLoader(dataset=svhn_train,\n",
        "                                           batch_size=batch_size,\n",
        "                                           shuffle=True,\n",
        "                                           num_workers=num_workers)\n"
      ],
      "execution_count": 2,
      "outputs": [
        {
          "output_type": "stream",
          "text": [
            "Using downloaded and verified file: data/train_32x32.mat\n"
          ],
          "name": "stdout"
        }
      ]
    },
    {
      "cell_type": "markdown",
      "metadata": {
        "id": "OJ2SU5DDNkeu",
        "colab_type": "text"
      },
      "source": [
        "### Visualize the Data\n",
        "\n",
        "Here I'm showing a small sample of the images. Each of these is 32x32 with 3 color channels (RGB). These are the real, training images that we'll pass to the discriminator. Notice that each image has _one_ associated, numerical label."
      ]
    },
    {
      "cell_type": "code",
      "metadata": {
        "id": "p7T1GPvCNkev",
        "colab_type": "code",
        "outputId": "2b68181b-aa7b-41b6-8972-99bee37bc5e6",
        "colab": {
          "base_uri": "https://localhost:8080/",
          "height": 288
        }
      },
      "source": [
        "# obtain one batch of training images\n",
        "dataiter = iter(train_loader)\n",
        "images, labels = dataiter.next()\n",
        "\n",
        "# plot the images in the batch, along with the corresponding labels\n",
        "fig = plt.figure(figsize=(25, 4))\n",
        "plot_size=20\n",
        "for idx in np.arange(plot_size):\n",
        "    ax = fig.add_subplot(2, plot_size/2, idx+1, xticks=[], yticks=[])\n",
        "    ax.imshow(np.transpose(images[idx], (1, 2, 0)))\n",
        "    # print out the correct label for each image\n",
        "    # .item() gets the value contained in a Tensor\n",
        "    ax.set_title(str(labels[idx].item()))"
      ],
      "execution_count": 3,
      "outputs": [
        {
          "output_type": "display_data",
          "data": {
            "image/png": "[encoded data removed]",
            "text/plain": [
              "<Figure size 1800x288 with 20 Axes>"
            ]
          },
          "metadata": {
            "tags": []
          }
        }
      ]
    },
    {
      "cell_type": "markdown",
      "metadata": {
        "id": "YzzFgn_yNkex",
        "colab_type": "text"
      },
      "source": [
        "### Pre-processing: scaling from -1 to 1\n",
        "\n",
        "We need to do a bit of pre-processing; we know that the output of our `tanh` activated generator will contain pixel values in a range from -1 to 1, and so, we need to rescale our training images to a range of -1 to 1. (Right now, they are in a range from 0-1.)"
      ]
    },
    {
      "cell_type": "code",
      "metadata": {
        "id": "9G2PONWlNkey",
        "colab_type": "code",
        "outputId": "28ec8310-c80c-4c12-d01c-e8fdfcb5b683",
        "colab": {
          "base_uri": "https://localhost:8080/",
          "height": 51
        }
      },
      "source": [
        "# current range\n",
        "img = images[1]\n",
        "\n",
        "print('Min: ', img.min())\n",
        "print('Max: ', img.max())"
      ],
      "execution_count": 4,
      "outputs": [
        {
          "output_type": "stream",
          "text": [
            "Min:  tensor(0.0039)\n",
            "Max:  tensor(0.7059)\n"
          ],
          "name": "stdout"
        }
      ]
    },
    {
      "cell_type": "code",
      "metadata": {
        "id": "16lvWHzwNke0",
        "colab_type": "code",
        "colab": {}
      },
      "source": [
        "# helper scale function\n",
        "def scale(x, feature_range=(-1, 1)):\n",
        "    ''' Scale takes in an image x and returns that image, scaled\n",
        "       with a feature_range of pixel values from -1 to 1. \n",
        "       This function assumes that the input x is already scaled from 0-1.'''\n",
        "    # assume x is scaled to (0, 1)\n",
        "    # scale to feature_range and return scaled x\n",
        "    x = (x*2)-1\n",
        "    \n",
        "    return x\n"
      ],
      "execution_count": 0,
      "outputs": []
    },
    {
      "cell_type": "code",
      "metadata": {
        "id": "4VZyY2wWNke2",
        "colab_type": "code",
        "outputId": "8cfc41f7-a983-42b1-b19c-ce7a98c9b12f",
        "colab": {
          "base_uri": "https://localhost:8080/",
          "height": 51
        }
      },
      "source": [
        "# scaled range\n",
        "scaled_img = scale(img)\n",
        "\n",
        "print('Scaled min: ', scaled_img.min())\n",
        "print('Scaled max: ', scaled_img.max())"
      ],
      "execution_count": 6,
      "outputs": [
        {
          "output_type": "stream",
          "text": [
            "Scaled min:  tensor(-0.9922)\n",
            "Scaled max:  tensor(0.4118)\n"
          ],
          "name": "stdout"
        }
      ]
    },
    {
      "cell_type": "code",
      "metadata": {
        "id": "U2-BTh0UNke4",
        "colab_type": "code",
        "outputId": "cb140372-7162-463b-b060-7fdd023e63e4",
        "colab": {
          "base_uri": "https://localhost:8080/",
          "height": 34
        }
      },
      "source": [
        "img.size()"
      ],
      "execution_count": 0,
      "outputs": [
        {
          "output_type": "execute_result",
          "data": {
            "text/plain": [
              "torch.Size([3, 32, 32])"
            ]
          },
          "metadata": {
            "tags": []
          },
          "execution_count": 8
        }
      ]
    },
    {
      "cell_type": "markdown",
      "metadata": {
        "id": "xw473UWZNke9",
        "colab_type": "text"
      },
      "source": [
        "---\n",
        "# Define the Model\n",
        "\n",
        "A GAN is comprised of two adversarial networks, a discriminator and a generator."
      ]
    },
    {
      "cell_type": "markdown",
      "metadata": {
        "id": "pK0IBegzNke-",
        "colab_type": "text"
      },
      "source": [
        "## Discriminator\n",
        "\n",
        "Here you'll build the discriminator. This is a convolutional classifier like you've built before, only without any maxpooling layers. \n",
        "* The inputs to the discriminator are 32x32x3 tensor images\n",
        "* You'll want a few convolutional, hidden layers\n",
        "* Then a fully connected layer for the output; as before, we want a sigmoid output, but we'll add that in the loss function, [BCEWithLogitsLoss](https://pytorch.org/docs/stable/nn.html#bcewithlogitsloss), later\n",
        "\n",
        "<img src='assets/conv_discriminator.png' width=80%/>\n",
        "\n",
        "For the depths of the convolutional layers I suggest starting with 32 filters in the first layer, then double that depth as you add layers (to 64, 128, etc.). Note that in the DCGAN paper, they did all the downsampling using only strided convolutional layers with no maxpooling layers.\n",
        "\n",
        "You'll also want to use batch normalization with [nn.BatchNorm2d](https://pytorch.org/docs/stable/nn.html#batchnorm2d) on each layer **except** the first convolutional layer and final, linear output layer. \n",
        "\n",
        "#### Helper `conv` function \n",
        "\n",
        "In general, each layer should look something like convolution > batch norm > leaky ReLU, and so we'll define a function to put these layers together. This function will create a sequential series of a convolutional + an optional batch norm layer. We'll create these using PyTorch's [Sequential container](https://pytorch.org/docs/stable/nn.html#sequential), which takes in a list of layers and creates layers according to the order that they are passed in to the Sequential constructor.\n",
        "\n",
        "Note: It is also suggested that you use a **kernel_size of 4** and a **stride of 2** for strided convolutions."
      ]
    },
    {
      "cell_type": "code",
      "metadata": {
        "id": "6nyZtwpKNke-",
        "colab_type": "code",
        "colab": {}
      },
      "source": [
        "import torch.nn as nn\n",
        "import torch.nn.functional as F\n",
        "\n",
        "# helper conv function\n",
        "def conv(in_channels, out_channels, kernel_size, stride=2, padding=1, batch_norm=True):\n",
        "    \"\"\"Creates a convolutional layer, with optional batch normalization.\n",
        "    \"\"\"\n",
        "    layers = []\n",
        "    conv_layer = nn.Conv2d(in_channels, out_channels, \n",
        "                           kernel_size, stride, padding, bias=False)\n",
        "    \n",
        "    # append conv layer\n",
        "    layers.append(conv_layer)\n",
        "\n",
        "    if batch_norm:\n",
        "        # append batchnorm layer\n",
        "        layers.append(nn.BatchNorm2d(out_channels))\n",
        "     \n",
        "    # using Sequential container\n",
        "    return nn.Sequential(*layers)\n"
      ],
      "execution_count": 0,
      "outputs": []
    },
    {
      "cell_type": "code",
      "metadata": {
        "id": "9qZvnXilNkfA",
        "colab_type": "code",
        "outputId": "3b971e76-7fde-49b3-f43e-8305f9b44784",
        "colab": {
          "base_uri": "https://localhost:8080/",
          "height": 272
        }
      },
      "source": [
        "class Discriminator(nn.Module):\n",
        "\n",
        "    def __init__(self, conv_dim=32):\n",
        "        super(Discriminator, self).__init__()\n",
        "\n",
        "        # complete init function\n",
        "        in_channels = 3\n",
        "        kernel_size = 4\n",
        "        padding = 1\n",
        "        stride = 2\n",
        "        \n",
        "        self.conv_dim = conv_dim\n",
        "        \n",
        "        # Convolution layer\n",
        "        self.conv1 = conv(in_channels, conv_dim*4, kernel_size, stride=stride, padding=padding, batch_norm=False)\n",
        "        self.conv2 = conv(conv_dim*4, conv_dim*8, kernel_size, stride=stride, padding=padding, batch_norm=True)\n",
        "        self.conv3 = conv(conv_dim*8, conv_dim*16, kernel_size, stride=stride, padding=padding, batch_norm=True)\n",
        "        \n",
        "        self.O1 = ((32-kernel_size+2*padding)/stride) + 1\n",
        "        self.O2 = ((self.O1-kernel_size+2*padding)/stride) + 1\n",
        "        self.O3 = ((self.O2-kernel_size+2*padding)/stride) + 1\n",
        "        \n",
        "        # Linear layer\n",
        "        self.fc = nn.Linear(int(self.O3*self.O3*self.conv_dim*16),1)\n",
        "        \n",
        "        # Leaky relu\n",
        "        self.leaky_relu = nn.LeakyReLU(0.2)\n",
        "        \n",
        "    def forward(self, x):\n",
        "        # complete forward function\n",
        "        x = self.conv1(x)\n",
        "        x = self.leaky_relu(self.conv2(x))\n",
        "        x = self.leaky_relu(self.conv3(x))\n",
        "        \n",
        "        # Flatten the input\n",
        "        x = x.view(-1, int(self.O3*self.O3*self.conv_dim*16))\n",
        "        \n",
        "        # FC layer\n",
        "        x = self.fc(x.squeeze())\n",
        "        \n",
        "        return x\n",
        "    \n",
        "D = Discriminator(conv_dim=32)\n",
        "print(D)"
      ],
      "execution_count": 8,
      "outputs": [
        {
          "output_type": "stream",
          "text": [
            "Discriminator(\n",
            "  (conv1): Sequential(\n",
            "    (0): Conv2d(3, 128, kernel_size=(4, 4), stride=(2, 2), padding=(1, 1), bias=False)\n",
            "  )\n",
            "  (conv2): Sequential(\n",
            "    (0): Conv2d(128, 256, kernel_size=(4, 4), stride=(2, 2), padding=(1, 1), bias=False)\n",
            "    (1): BatchNorm2d(256, eps=1e-05, momentum=0.1, affine=True, track_running_stats=True)\n",
            "  )\n",
            "  (conv3): Sequential(\n",
            "    (0): Conv2d(256, 512, kernel_size=(4, 4), stride=(2, 2), padding=(1, 1), bias=False)\n",
            "    (1): BatchNorm2d(512, eps=1e-05, momentum=0.1, affine=True, track_running_stats=True)\n",
            "  )\n",
            "  (fc): Linear(in_features=8192, out_features=1, bias=True)\n",
            "  (leaky_relu): LeakyReLU(negative_slope=0.2)\n",
            ")\n"
          ],
          "name": "stdout"
        }
      ]
    },
    {
      "cell_type": "markdown",
      "metadata": {
        "id": "5IVUEz8WNkfC",
        "colab_type": "text"
      },
      "source": [
        "## Generator\n",
        "\n",
        "Next, you'll build the generator network. The input will be our noise vector `z`, as before. And, the output will be a $tanh$ output, but this time with size 32x32 which is the size of our SVHN images.\n",
        "\n",
        "<img src='assets/conv_generator.png' width=80% />\n",
        "\n",
        "What's new here is we'll use transpose convolutional layers to create our new images. \n",
        "* The first layer is a fully connected layer which is reshaped into a deep and narrow layer, something like 4x4x512. \n",
        "* Then, we use batch normalization and a leaky ReLU activation. \n",
        "* Next is a series of [transpose convolutional layers](https://pytorch.org/docs/stable/nn.html#convtranspose2d), where you typically halve the depth and double the width and height of the previous layer. \n",
        "* And, we'll apply batch normalization and ReLU to all but the last of these hidden layers. Where we will just apply a `tanh` activation.\n",
        "\n",
        "#### Helper `deconv` function\n",
        "\n",
        "For each of these layers, the general scheme is transpose convolution > batch norm > ReLU, and so we'll define a function to put these layers together. This function will create a sequential series of a transpose convolutional + an optional batch norm layer. We'll create these using PyTorch's Sequential container, which takes in a list of layers and creates layers according to the order that they are passed in to the Sequential constructor.\n",
        "\n",
        "Note: It is also suggested that you use a **kernel_size of 4** and a **stride of 2** for transpose convolutions."
      ]
    },
    {
      "cell_type": "code",
      "metadata": {
        "id": "afMV70dGNkfD",
        "colab_type": "code",
        "colab": {}
      },
      "source": [
        "# helper deconv function\n",
        "def deconv(in_channels, out_channels, kernel_size, stride=2, padding=1, batch_norm=True):\n",
        "    \"\"\"Creates a transposed-convolutional layer, with optional batch normalization.\n",
        "    \"\"\"\n",
        "    ## TODO: Complete this function\n",
        "    ## create a sequence of transpose + optional batch norm layers\n",
        "    layers = []\n",
        "    \n",
        "    deconv_layer = nn.ConvTranspose2d(in_channels, out_channels, kernel_size, stride, padding)\n",
        "    layers.append(deconv_layer)\n",
        "    \n",
        "    if batch_norm:\n",
        "        layers.append(nn.BatchNorm2d(out_channels))\n",
        "    \n",
        "    return nn.Sequential(*layers)\n"
      ],
      "execution_count": 0,
      "outputs": []
    },
    {
      "cell_type": "code",
      "metadata": {
        "id": "QiDT_ysaNkfE",
        "colab_type": "code",
        "colab": {}
      },
      "source": [
        "class Generator(nn.Module):\n",
        "    \n",
        "    def __init__(self, z_size, conv_dim=32):\n",
        "        super(Generator, self).__init__()\n",
        "\n",
        "        # complete init function\n",
        "        out_channels = 3\n",
        "        kernel_size = 4\n",
        "        padding = 1\n",
        "        stride = 2\n",
        "        \n",
        "        # Fully connected layer\n",
        "        self.fc = nn.Linear(z_size, 4*4*512)\n",
        "        \n",
        "        # Transpose convolutional layer\n",
        "        self.tconv1 = deconv(conv_dim*16, conv_dim*8, kernel_size, stride=stride, padding=padding, batch_norm=True)\n",
        "        self.tconv2 = deconv(conv_dim*8, conv_dim*4, kernel_size, stride=stride, padding=padding, batch_norm=True)\n",
        "        self.tconv3 = deconv(conv_dim*4, out_channels, kernel_size, stride=stride, padding=padding, batch_norm=False)\n",
        "        \n",
        "        # Relu activation\n",
        "        self.relu = nn.ReLU()\n",
        "        \n",
        "        # Tanh activation function\n",
        "        self.tanh = nn.Tanh()\n",
        "        \n",
        "    def forward(self, x):\n",
        "        # complete forward function\n",
        "        # Linear layer\n",
        "        x = self.fc(x)\n",
        "        \n",
        "        # Shape the input\n",
        "        x = x.view(-1,512,4,4)\n",
        "        \n",
        "        x = self.relu(self.tconv1(x))\n",
        "        x = self.relu(self.tconv2(x))\n",
        "        x = self.tanh(self.tconv3(x))\n",
        "        \n",
        "        return x\n",
        "    "
      ],
      "execution_count": 0,
      "outputs": []
    },
    {
      "cell_type": "markdown",
      "metadata": {
        "collapsed": true,
        "id": "AFwg42yhNkfG",
        "colab_type": "text"
      },
      "source": [
        "## Build complete network\n",
        "\n",
        "Define your models' hyperparameters and instantiate the discriminator and generator from the classes defined above. Make sure you've passed in the correct input arguments."
      ]
    },
    {
      "cell_type": "code",
      "metadata": {
        "id": "15LdU_ijNkfH",
        "colab_type": "code",
        "outputId": "e1752c45-0d35-4837-dc9c-5b32b55a7803",
        "colab": {
          "base_uri": "https://localhost:8080/",
          "height": 561
        }
      },
      "source": [
        "# define hyperparams\n",
        "conv_dim = 32\n",
        "z_size = 100\n",
        "\n",
        "# define discriminator and generator\n",
        "D = Discriminator(conv_dim)\n",
        "G = Generator(z_size=z_size, conv_dim=conv_dim)\n",
        "\n",
        "print(D)\n",
        "print()\n",
        "print(G)"
      ],
      "execution_count": 11,
      "outputs": [
        {
          "output_type": "stream",
          "text": [
            "Discriminator(\n",
            "  (conv1): Sequential(\n",
            "    (0): Conv2d(3, 128, kernel_size=(4, 4), stride=(2, 2), padding=(1, 1), bias=False)\n",
            "  )\n",
            "  (conv2): Sequential(\n",
            "    (0): Conv2d(128, 256, kernel_size=(4, 4), stride=(2, 2), padding=(1, 1), bias=False)\n",
            "    (1): BatchNorm2d(256, eps=1e-05, momentum=0.1, affine=True, track_running_stats=True)\n",
            "  )\n",
            "  (conv3): Sequential(\n",
            "    (0): Conv2d(256, 512, kernel_size=(4, 4), stride=(2, 2), padding=(1, 1), bias=False)\n",
            "    (1): BatchNorm2d(512, eps=1e-05, momentum=0.1, affine=True, track_running_stats=True)\n",
            "  )\n",
            "  (fc): Linear(in_features=8192, out_features=1, bias=True)\n",
            "  (leaky_relu): LeakyReLU(negative_slope=0.2)\n",
            ")\n",
            "\n",
            "Generator(\n",
            "  (fc): Linear(in_features=100, out_features=8192, bias=True)\n",
            "  (tconv1): Sequential(\n",
            "    (0): ConvTranspose2d(512, 256, kernel_size=(4, 4), stride=(2, 2), padding=(1, 1))\n",
            "    (1): BatchNorm2d(256, eps=1e-05, momentum=0.1, affine=True, track_running_stats=True)\n",
            "  )\n",
            "  (tconv2): Sequential(\n",
            "    (0): ConvTranspose2d(256, 128, kernel_size=(4, 4), stride=(2, 2), padding=(1, 1))\n",
            "    (1): BatchNorm2d(128, eps=1e-05, momentum=0.1, affine=True, track_running_stats=True)\n",
            "  )\n",
            "  (tconv3): Sequential(\n",
            "    (0): ConvTranspose2d(128, 3, kernel_size=(4, 4), stride=(2, 2), padding=(1, 1))\n",
            "  )\n",
            "  (relu): ReLU()\n",
            "  (tanh): Tanh()\n",
            ")\n"
          ],
          "name": "stdout"
        }
      ]
    },
    {
      "cell_type": "markdown",
      "metadata": {
        "id": "SCgfNuWWNkfJ",
        "colab_type": "text"
      },
      "source": [
        "### Training on GPU\n",
        "\n",
        "Check if you can train on GPU. If you can, set this as a variable and move your models to GPU. \n",
        "> Later, we'll also move any inputs our models and loss functions see (real_images, z, and ground truth labels) to GPU as well."
      ]
    },
    {
      "cell_type": "code",
      "metadata": {
        "id": "TEDa_12bNkfJ",
        "colab_type": "code",
        "outputId": "ccdbb486-399b-4c4f-eb10-545817a335ee",
        "colab": {
          "base_uri": "https://localhost:8080/",
          "height": 34
        }
      },
      "source": [
        "train_on_gpu = torch.cuda.is_available()\n",
        "\n",
        "if train_on_gpu:\n",
        "    # move models to GPU\n",
        "    G.cuda()\n",
        "    D.cuda()\n",
        "    print('GPU available for training. Models moved to GPU')\n",
        "else:\n",
        "    print('Training on CPU.')\n",
        "    "
      ],
      "execution_count": 12,
      "outputs": [
        {
          "output_type": "stream",
          "text": [
            "GPU available for training. Models moved to GPU\n"
          ],
          "name": "stdout"
        }
      ]
    },
    {
      "cell_type": "markdown",
      "metadata": {
        "id": "W7EEuuAYNkfO",
        "colab_type": "text"
      },
      "source": [
        "---\n",
        "## Discriminator and Generator Losses\n",
        "\n",
        "Now we need to calculate the losses. And this will be exactly the same as before.\n",
        "\n",
        "### Discriminator Losses\n",
        "\n",
        "> * For the discriminator, the total loss is the sum of the losses for real and fake images, `d_loss = d_real_loss + d_fake_loss`. \n",
        "* Remember that we want the discriminator to output 1 for real images and 0 for fake images, so we need to set up the losses to reflect that.\n",
        "\n",
        "The losses will by binary cross entropy loss with logits, which we can get with [BCEWithLogitsLoss](https://pytorch.org/docs/stable/nn.html#bcewithlogitsloss). This combines a `sigmoid` activation function **and** and binary cross entropy loss in one function.\n",
        "\n",
        "For the real images, we want `D(real_images) = 1`. That is, we want the discriminator to classify the the real images with a label = 1, indicating that these are real. The discriminator loss for the fake data is similar. We want `D(fake_images) = 0`, where the fake images are the _generator output_, `fake_images = G(z)`. \n",
        "\n",
        "### Generator Loss\n",
        "\n",
        "The generator loss will look similar only with flipped labels. The generator's goal is to get `D(fake_images) = 1`. In this case, the labels are **flipped** to represent that the generator is trying to fool the discriminator into thinking that the images it generates (fakes) are real!"
      ]
    },
    {
      "cell_type": "code",
      "metadata": {
        "id": "OHftLLR9NkfO",
        "colab_type": "code",
        "colab": {}
      },
      "source": [
        "def real_loss(D_out, smooth=False):\n",
        "    batch_size = D_out.size(0)\n",
        "    # label smoothing\n",
        "    if smooth:\n",
        "        # smooth, real labels = 0.9\n",
        "        labels = torch.ones(batch_size)*0.9\n",
        "    else:\n",
        "        labels = torch.ones(batch_size) # real labels = 1\n",
        "    # move labels to GPU if available     \n",
        "    if train_on_gpu:\n",
        "        labels = labels.cuda()\n",
        "    # binary cross entropy with logits loss\n",
        "    criterion = nn.BCEWithLogitsLoss()\n",
        "    # calculate loss\n",
        "    loss = criterion(D_out.squeeze(), labels)\n",
        "    return loss\n",
        "\n",
        "def fake_loss(D_out):\n",
        "    batch_size = D_out.size(0)\n",
        "    labels = torch.zeros(batch_size) # fake labels = 0\n",
        "    if train_on_gpu:\n",
        "        labels = labels.cuda()\n",
        "    criterion = nn.BCEWithLogitsLoss()\n",
        "    # calculate loss\n",
        "    loss = criterion(D_out.squeeze(), labels)\n",
        "    return loss"
      ],
      "execution_count": 0,
      "outputs": []
    },
    {
      "cell_type": "markdown",
      "metadata": {
        "id": "7yuDZaaKNkfS",
        "colab_type": "text"
      },
      "source": [
        "## Optimizers\n",
        "\n",
        "Not much new here, but notice how I am using a small learning rate and custom parameters for the Adam optimizers, This is based on some research into DCGAN model convergence.\n",
        "\n",
        "### Hyperparameters\n",
        "\n",
        "GANs are very sensitive to hyperparameters. A lot of experimentation goes into finding the best hyperparameters such that the generator and discriminator don't overpower each other. Try out your own hyperparameters or read [the DCGAN paper](https://arxiv.org/pdf/1511.06434.pdf) to see what worked for them."
      ]
    },
    {
      "cell_type": "code",
      "metadata": {
        "id": "yYIHW08qNkfT",
        "colab_type": "code",
        "colab": {}
      },
      "source": [
        "import torch.optim as optim\n",
        "\n",
        "# params\n",
        "lr = 0.0002\n",
        "beta1= 0.5\n",
        "beta2= 0.999\n",
        "\n",
        "# Create optimizers for the discriminator and generator\n",
        "d_optimizer = optim.Adam(D.parameters(), lr, [beta1, beta2])\n",
        "g_optimizer = optim.Adam(G.parameters(), lr, [beta1, beta2])"
      ],
      "execution_count": 0,
      "outputs": []
    },
    {
      "cell_type": "markdown",
      "metadata": {
        "id": "Vcln6ZOwNkfW",
        "colab_type": "text"
      },
      "source": [
        "---\n",
        "## Training\n",
        "\n",
        "Training will involve alternating between training the discriminator and the generator. We'll use our functions `real_loss` and `fake_loss` to help us calculate the discriminator losses in all of the following cases.\n",
        "\n",
        "### Discriminator training\n",
        "1. Compute the discriminator loss on real, training images        \n",
        "2. Generate fake images\n",
        "3. Compute the discriminator loss on fake, generated images     \n",
        "4. Add up real and fake loss\n",
        "5. Perform backpropagation + an optimization step to update the discriminator's weights\n",
        "\n",
        "### Generator training\n",
        "1. Generate fake images\n",
        "2. Compute the discriminator loss on fake images, using **flipped** labels!\n",
        "3. Perform backpropagation + an optimization step to update the generator's weights\n",
        "\n",
        "#### Saving Samples\n",
        "\n",
        "As we train, we'll also print out some loss statistics and save some generated \"fake\" samples.\n",
        "\n",
        "**Evaluation mode**\n",
        "\n",
        "Notice that, when we call our generator to create the samples to display, we set our model to evaluation mode: `G.eval()`. That's so the batch normalization layers will use the population statistics rather than the batch statistics (as they do during training), *and* so dropout layers will operate in eval() mode; not turning off any nodes for generating samples."
      ]
    },
    {
      "cell_type": "code",
      "metadata": {
        "id": "scShCxHSNkfX",
        "colab_type": "code",
        "outputId": "23dba165-5b99-4a84-dde9-7fad57702473",
        "colab": {
          "base_uri": "https://localhost:8080/",
          "height": 1000
        }
      },
      "source": [
        "import pickle as pkl\n",
        "\n",
        "# training hyperparams\n",
        "num_epochs = 50\n",
        "\n",
        "# keep track of loss and generated, \"fake\" samples\n",
        "samples = []\n",
        "losses = []\n",
        "\n",
        "print_every = 300\n",
        "\n",
        "# Get some fixed data for sampling. These are images that are held\n",
        "# constant throughout training, and allow us to inspect the model's performance\n",
        "sample_size=16\n",
        "fixed_z = np.random.uniform(-1, 1, size=(sample_size, z_size))\n",
        "fixed_z = torch.from_numpy(fixed_z).float()\n",
        "\n",
        "# train the network\n",
        "for epoch in range(num_epochs):\n",
        "    \n",
        "    for batch_i, (real_images, _) in enumerate(train_loader):\n",
        "                \n",
        "        batch_size = real_images.size(0)\n",
        "        \n",
        "        # important rescaling step\n",
        "        real_images = scale(real_images)\n",
        "        \n",
        "        # ============================================\n",
        "        #            TRAIN THE DISCRIMINATOR\n",
        "        # ============================================\n",
        "        \n",
        "        d_optimizer.zero_grad()\n",
        "        \n",
        "        # 1. Train with real images\n",
        "\n",
        "        # Compute the discriminator losses on real images \n",
        "        if train_on_gpu:\n",
        "            real_images = real_images.cuda()\n",
        "        \n",
        "        D_real = D(real_images)\n",
        "        d_real_loss = real_loss(D_real)\n",
        "        \n",
        "        # 2. Train with fake images\n",
        "        \n",
        "        # Generate fake images\n",
        "        z = np.random.uniform(-1, 1, size=(batch_size, z_size))\n",
        "        z = torch.from_numpy(z).float()\n",
        "        # move x to GPU, if available\n",
        "        if train_on_gpu:\n",
        "            z = z.cuda()\n",
        "        fake_images = G(z)\n",
        "        \n",
        "        # Compute the discriminator losses on fake images            \n",
        "        D_fake = D(fake_images)\n",
        "        d_fake_loss = fake_loss(D_fake)\n",
        "        \n",
        "        # add up loss and perform backprop\n",
        "        d_loss = d_real_loss + d_fake_loss\n",
        "        d_loss.backward()\n",
        "        d_optimizer.step()\n",
        "        \n",
        "        \n",
        "        # =========================================\n",
        "        #            TRAIN THE GENERATOR\n",
        "        # =========================================\n",
        "        g_optimizer.zero_grad()\n",
        "        \n",
        "        # 1. Train with fake images and flipped labels\n",
        "        \n",
        "        # Generate fake images\n",
        "        z = np.random.uniform(-1, 1, size=(batch_size, z_size))\n",
        "        z = torch.from_numpy(z).float()\n",
        "        if train_on_gpu:\n",
        "            z = z.cuda()\n",
        "        fake_images = G(z)\n",
        "        \n",
        "        # Compute the discriminator losses on fake images \n",
        "        # using flipped labels!\n",
        "        D_fake = D(fake_images)\n",
        "        g_loss = real_loss(D_fake) # use real loss to flip labels\n",
        "        \n",
        "        # perform backprop\n",
        "        g_loss.backward()\n",
        "        g_optimizer.step()\n",
        "\n",
        "        # Print some loss stats\n",
        "        if batch_i % print_every == 0:\n",
        "            # append discriminator loss and generator loss\n",
        "            losses.append((d_loss.item(), g_loss.item()))\n",
        "            # print discriminator and generator loss\n",
        "            print('Epoch [{:5d}/{:5d}] | d_loss: {:6.4f} | g_loss: {:6.4f}'.format(\n",
        "                    epoch+1, num_epochs, d_loss.item(), g_loss.item()))\n",
        "\n",
        "    \n",
        "    ## AFTER EACH EPOCH##    \n",
        "    # generate and save sample, fake images\n",
        "    G.eval() # for generating samples\n",
        "    if train_on_gpu:\n",
        "        fixed_z = fixed_z.cuda()\n",
        "    samples_z = G(fixed_z)\n",
        "    samples.append(samples_z)\n",
        "    G.train() # back to training mode\n",
        "\n",
        "\n",
        "# Save training generator samples\n",
        "with open('train_samples.pkl', 'wb') as f:\n",
        "    pkl.dump(samples, f)"
      ],
      "execution_count": 15,
      "outputs": [
        {
          "output_type": "stream",
          "text": [
            "Epoch [    1/   50] | d_loss: 1.3759 | g_loss: 1.4348\n",
            "Epoch [    1/   50] | d_loss: 0.5656 | g_loss: 3.0458\n",
            "Epoch [    2/   50] | d_loss: 0.3261 | g_loss: 2.8229\n",
            "Epoch [    2/   50] | d_loss: 0.2343 | g_loss: 3.4569\n",
            "Epoch [    3/   50] | d_loss: 0.2164 | g_loss: 3.0810\n",
            "Epoch [    3/   50] | d_loss: 0.0257 | g_loss: 6.2216\n",
            "Epoch [    4/   50] | d_loss: 0.8878 | g_loss: 1.8315\n",
            "Epoch [    4/   50] | d_loss: 0.0067 | g_loss: 6.5532\n",
            "Epoch [    5/   50] | d_loss: 0.2632 | g_loss: 2.6227\n",
            "Epoch [    5/   50] | d_loss: 0.0823 | g_loss: 4.0588\n",
            "Epoch [    6/   50] | d_loss: 0.0790 | g_loss: 7.2560\n",
            "Epoch [    6/   50] | d_loss: 0.2731 | g_loss: 4.0714\n",
            "Epoch [    7/   50] | d_loss: 0.0472 | g_loss: 4.0179\n",
            "Epoch [    7/   50] | d_loss: 0.0194 | g_loss: 8.1641\n",
            "Epoch [    8/   50] | d_loss: 0.4121 | g_loss: 3.9471\n",
            "Epoch [    8/   50] | d_loss: 0.0250 | g_loss: 4.2271\n",
            "Epoch [    9/   50] | d_loss: 0.9139 | g_loss: 3.9468\n",
            "Epoch [    9/   50] | d_loss: 0.0254 | g_loss: 7.2572\n",
            "Epoch [   10/   50] | d_loss: 0.1090 | g_loss: 4.1852\n",
            "Epoch [   10/   50] | d_loss: 0.5623 | g_loss: 2.2256\n",
            "Epoch [   11/   50] | d_loss: 0.0206 | g_loss: 5.9889\n",
            "Epoch [   11/   50] | d_loss: 0.2384 | g_loss: 4.7121\n",
            "Epoch [   12/   50] | d_loss: 0.3698 | g_loss: 2.7953\n",
            "Epoch [   12/   50] | d_loss: 0.0432 | g_loss: 7.1212\n",
            "Epoch [   13/   50] | d_loss: 0.1840 | g_loss: 4.1741\n",
            "Epoch [   13/   50] | d_loss: 0.1600 | g_loss: 4.0694\n",
            "Epoch [   14/   50] | d_loss: 0.0182 | g_loss: 5.3313\n",
            "Epoch [   14/   50] | d_loss: 0.2044 | g_loss: 2.7341\n",
            "Epoch [   15/   50] | d_loss: 0.1553 | g_loss: 3.9764\n",
            "Epoch [   15/   50] | d_loss: 0.2794 | g_loss: 3.6338\n",
            "Epoch [   16/   50] | d_loss: 0.1153 | g_loss: 4.7218\n",
            "Epoch [   16/   50] | d_loss: 0.1691 | g_loss: 2.2103\n",
            "Epoch [   17/   50] | d_loss: 0.1400 | g_loss: 2.8785\n",
            "Epoch [   17/   50] | d_loss: 0.1062 | g_loss: 5.6086\n",
            "Epoch [   18/   50] | d_loss: 0.1943 | g_loss: 1.9081\n",
            "Epoch [   18/   50] | d_loss: 0.1955 | g_loss: 3.4544\n",
            "Epoch [   19/   50] | d_loss: 0.6903 | g_loss: 3.0215\n",
            "Epoch [   19/   50] | d_loss: 0.1958 | g_loss: 3.6325\n",
            "Epoch [   20/   50] | d_loss: 0.0951 | g_loss: 4.4770\n",
            "Epoch [   20/   50] | d_loss: 0.0952 | g_loss: 5.4688\n",
            "Epoch [   21/   50] | d_loss: 0.1362 | g_loss: 4.0329\n",
            "Epoch [   21/   50] | d_loss: 0.1657 | g_loss: 3.3297\n",
            "Epoch [   22/   50] | d_loss: 0.2731 | g_loss: 3.1197\n",
            "Epoch [   22/   50] | d_loss: 0.0915 | g_loss: 3.9498\n",
            "Epoch [   23/   50] | d_loss: 1.7931 | g_loss: 1.1490\n",
            "Epoch [   23/   50] | d_loss: 0.1757 | g_loss: 4.7587\n",
            "Epoch [   24/   50] | d_loss: 1.2265 | g_loss: 0.7491\n",
            "Epoch [   24/   50] | d_loss: 0.2277 | g_loss: 3.0610\n",
            "Epoch [   25/   50] | d_loss: 1.6784 | g_loss: 6.8549\n",
            "Epoch [   25/   50] | d_loss: 0.0972 | g_loss: 4.0912\n",
            "Epoch [   26/   50] | d_loss: 0.0843 | g_loss: 5.6428\n",
            "Epoch [   26/   50] | d_loss: 0.9791 | g_loss: 0.8306\n",
            "Epoch [   27/   50] | d_loss: 0.4037 | g_loss: 5.8623\n",
            "Epoch [   27/   50] | d_loss: 0.1293 | g_loss: 4.0172\n",
            "Epoch [   28/   50] | d_loss: 0.1118 | g_loss: 3.7602\n",
            "Epoch [   28/   50] | d_loss: 0.1774 | g_loss: 6.7352\n",
            "Epoch [   29/   50] | d_loss: 0.0612 | g_loss: 4.3535\n",
            "Epoch [   29/   50] | d_loss: 0.3950 | g_loss: 5.2502\n",
            "Epoch [   30/   50] | d_loss: 0.2483 | g_loss: 4.7686\n",
            "Epoch [   30/   50] | d_loss: 0.1924 | g_loss: 5.2320\n",
            "Epoch [   31/   50] | d_loss: 0.1713 | g_loss: 3.9059\n",
            "Epoch [   31/   50] | d_loss: 0.1998 | g_loss: 5.0393\n",
            "Epoch [   32/   50] | d_loss: 1.3248 | g_loss: 7.7527\n",
            "Epoch [   32/   50] | d_loss: 0.1954 | g_loss: 3.9539\n",
            "Epoch [   33/   50] | d_loss: 0.0837 | g_loss: 1.7795\n",
            "Epoch [   33/   50] | d_loss: 0.8520 | g_loss: 2.3277\n",
            "Epoch [   34/   50] | d_loss: 0.2178 | g_loss: 4.7681\n",
            "Epoch [   34/   50] | d_loss: 0.0660 | g_loss: 4.5032\n",
            "Epoch [   35/   50] | d_loss: 0.3875 | g_loss: 3.9544\n",
            "Epoch [   35/   50] | d_loss: 0.3017 | g_loss: 3.8707\n",
            "Epoch [   36/   50] | d_loss: 1.7071 | g_loss: 1.1333\n",
            "Epoch [   36/   50] | d_loss: 0.1375 | g_loss: 3.8227\n",
            "Epoch [   37/   50] | d_loss: 0.6468 | g_loss: 7.0345\n",
            "Epoch [   37/   50] | d_loss: 0.2724 | g_loss: 1.9922\n",
            "Epoch [   38/   50] | d_loss: 0.1441 | g_loss: 4.8226\n",
            "Epoch [   38/   50] | d_loss: 0.1053 | g_loss: 3.6256\n",
            "Epoch [   39/   50] | d_loss: 0.1236 | g_loss: 2.7154\n",
            "Epoch [   39/   50] | d_loss: 0.1122 | g_loss: 4.5398\n",
            "Epoch [   40/   50] | d_loss: 0.2428 | g_loss: 3.7832\n",
            "Epoch [   40/   50] | d_loss: 0.1729 | g_loss: 4.2976\n",
            "Epoch [   41/   50] | d_loss: 0.2135 | g_loss: 4.6066\n",
            "Epoch [   41/   50] | d_loss: 0.3510 | g_loss: 4.1099\n",
            "Epoch [   42/   50] | d_loss: 0.2556 | g_loss: 4.4231\n",
            "Epoch [   42/   50] | d_loss: 1.1778 | g_loss: 1.8862\n",
            "Epoch [   43/   50] | d_loss: 0.0918 | g_loss: 3.8520\n",
            "Epoch [   43/   50] | d_loss: 0.1707 | g_loss: 4.2005\n",
            "Epoch [   44/   50] | d_loss: 0.9161 | g_loss: 3.4950\n",
            "Epoch [   44/   50] | d_loss: 0.1165 | g_loss: 4.4880\n",
            "Epoch [   45/   50] | d_loss: 6.1267 | g_loss: 0.9264\n",
            "Epoch [   45/   50] | d_loss: 0.0754 | g_loss: 4.2060\n",
            "Epoch [   46/   50] | d_loss: 0.0948 | g_loss: 2.7507\n",
            "Epoch [   46/   50] | d_loss: 0.3088 | g_loss: 3.2339\n",
            "Epoch [   47/   50] | d_loss: 0.1288 | g_loss: 3.9409\n",
            "Epoch [   47/   50] | d_loss: 0.1974 | g_loss: 2.8888\n",
            "Epoch [   48/   50] | d_loss: 0.4978 | g_loss: 1.8325\n",
            "Epoch [   48/   50] | d_loss: 0.1478 | g_loss: 4.3436\n",
            "Epoch [   49/   50] | d_loss: 0.0731 | g_loss: 3.4515\n",
            "Epoch [   49/   50] | d_loss: 0.0820 | g_loss: 3.9104\n",
            "Epoch [   50/   50] | d_loss: 0.2585 | g_loss: 4.4096\n",
            "Epoch [   50/   50] | d_loss: 0.1952 | g_loss: 4.7177\n"
          ],
          "name": "stdout"
        }
      ]
    },
    {
      "cell_type": "code",
      "metadata": {
        "id": "a3tnOU9sNkfb",
        "colab_type": "code",
        "colab": {
          "base_uri": "https://localhost:8080/",
          "height": 34
        },
        "outputId": "0f68c6d3-cda6-42fa-df47-bb67abf148fe"
      },
      "source": [
        "z.shape"
      ],
      "execution_count": 16,
      "outputs": [
        {
          "output_type": "execute_result",
          "data": {
            "text/plain": [
              "torch.Size([41, 100])"
            ]
          },
          "metadata": {
            "tags": []
          },
          "execution_count": 16
        }
      ]
    },
    {
      "cell_type": "markdown",
      "metadata": {
        "id": "IY4V6I1mNkfd",
        "colab_type": "text"
      },
      "source": [
        "## Training loss\n",
        "\n",
        "Here we'll plot the training losses for the generator and discriminator, recorded after each epoch."
      ]
    },
    {
      "cell_type": "code",
      "metadata": {
        "id": "EH09aFIUNkfe",
        "colab_type": "code",
        "colab": {
          "base_uri": "https://localhost:8080/",
          "height": 298
        },
        "outputId": "196c390e-2fda-4f5d-9bbd-36263fe8e32b"
      },
      "source": [
        "fig, ax = plt.subplots()\n",
        "losses = np.array(losses)\n",
        "plt.plot(losses.T[0], label='Discriminator', alpha=0.5)\n",
        "plt.plot(losses.T[1], label='Generator', alpha=0.5)\n",
        "plt.title(\"Training Losses\")\n",
        "plt.legend()"
      ],
      "execution_count": 17,
      "outputs": [
        {
          "output_type": "execute_result",
          "data": {
            "text/plain": [
              "<matplotlib.legend.Legend at 0x7f358a060278>"
            ]
          },
          "metadata": {
            "tags": []
          },
          "execution_count": 17
        },
        {
          "output_type": "display_data",
          "data": {
            "image/png": "[encoded data removed]",
            "text/plain": [
              "<Figure size 432x288 with 1 Axes>"
            ]
          },
          "metadata": {
            "tags": []
          }
        }
      ]
    },
    {
      "cell_type": "markdown",
      "metadata": {
        "collapsed": true,
        "id": "IZl95cNoNkff",
        "colab_type": "text"
      },
      "source": [
        "## Generator samples from training\n",
        "\n",
        "Here we can view samples of images from the generator. We'll look at the images we saved during training."
      ]
    },
    {
      "cell_type": "code",
      "metadata": {
        "id": "vSnvldn4Nkfg",
        "colab_type": "code",
        "colab": {}
      },
      "source": [
        "# helper function for viewing a list of passed in sample images\n",
        "def view_samples(epoch, samples):\n",
        "    fig, axes = plt.subplots(figsize=(16,4), nrows=2, ncols=8, sharey=True, sharex=True)\n",
        "    for ax, img in zip(axes.flatten(), samples[epoch]):\n",
        "        img = img.detach().cpu().numpy()\n",
        "        img = np.transpose(img, (1, 2, 0))\n",
        "        img = ((img +1)*255 / (2)).astype(np.uint8) # rescale to pixel range (0-255)\n",
        "        ax.xaxis.set_visible(False)\n",
        "        ax.yaxis.set_visible(False)\n",
        "        im = ax.imshow(img.reshape((32,32,3)))"
      ],
      "execution_count": 0,
      "outputs": []
    },
    {
      "cell_type": "code",
      "metadata": {
        "id": "PCnvd4mJPUHy",
        "colab_type": "code",
        "colab": {
          "base_uri": "https://localhost:8080/",
          "height": 264
        },
        "outputId": "712b8db1-28bc-467b-fb4c-3fd7403d26ce"
      },
      "source": [
        "_ = view_samples(49, samples)"
      ],
      "execution_count": 30,
      "outputs": [
        {
          "output_type": "display_data",
          "data": {
            "image/png": "[encoded data removed]",
            "text/plain": [
              "<Figure size 1152x288 with 16 Axes>"
            ]
          },
          "metadata": {
            "tags": []
          }
        }
      ]
    }
  ]
}